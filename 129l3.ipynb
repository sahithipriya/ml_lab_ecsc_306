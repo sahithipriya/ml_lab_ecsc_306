import tensorflow as tf
import matplotlib.pyplot as plt
x=tf.constant([1.0,2.0,4.0,3.0,5.0],name='f')
y=tf.constant([1.0,3.0,3.0,2.0,5.0],name='s')
epoch=tf.constant(500)
lr=0.005
for i in range(5):
    p=tf.multiply(epoch,(i+1))
    t1=0.0
    t0=0.0
    s1=tf.reduce_sum(tf.multiply(tf.subtract(tf.add(tf.multiply(x,t1),t0),y),x))
    s0=tf.reduce_sum(tf.subtract(tf.add(tf.multiply(x,t1),t0),y))
    tn1=tf.subtract(t1,tf.multiply(lr,tf.divide(s1,tf.cast(tf.size(x),tf.float32))))
    tn0=tf.subtract(t0,tf.multiply(lr,tf.divide(s0,tf.cast(tf.size(x),tf.float32))))
    threshold=0.001
    model=tf.global_variables_initializer()
    with tf.Session() as sess:
        sess.run(model)
        for j in range(sess.run(p)):
            t1=tn1
            t0=tn0
            s1=tf.reduce_sum(tf.multiply(tf.subtract(tf.add(tf.multiply(x,t1),t0),y),x))
            s0=tf.reduce_sum(tf.subtract(tf.add(tf.multiply(x,t1),t0),y))
            tn1=tf.subtract(t1,tf.multiply(lr,tf.divide(s1,tf.cast(tf.size(x),tf.float32))))
            tn0=tf.subtract(t0,tf.multiply(lr,tf.divide(s0,tf.cast(tf.size(x),tf.float32))))
        print("epoch value : ",sess.run(p))
        print("theta1 :",sess.run(tn1))
        print("theta0 :",sess.run(tn0))
    

